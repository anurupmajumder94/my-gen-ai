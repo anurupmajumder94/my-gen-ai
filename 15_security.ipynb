{
 "cells": [
  {
   "cell_type": "code",
   "execution_count": 1,
   "id": "b3a164ef",
   "metadata": {},
   "outputs": [
    {
     "name": "stdout",
     "output_type": "stream",
     "text": [
      "Filtered Text:\n",
      " \n",
      "Contact John via email [EMAIL_1] or phone ([PHONE_1].\n",
      "His SSN is [SSN_1]. Another email: [EMAIL_2] and phone [PHONE_2].\n",
      "\n",
      "\n",
      "Mapping:\n",
      " {'[EMAIL_1]': 'john.doe@example.com', '[EMAIL_2]': 'jane_smith@test.org', '[PHONE_1]': '123) 456-7890', '[PHONE_2]': '987-654-3210', '[SSN_1]': '123-45-6789'}\n",
      "\n",
      "Restored Text:\n",
      " \n",
      "Contact John via email john.doe@example.com or phone (123) 456-7890.\n",
      "His SSN is 123-45-6789. Another email: jane_smith@test.org and phone 987-654-3210.\n",
      "\n"
     ]
    }
   ],
   "source": [
    "import re\n",
    "from typing import Tuple, Dict\n",
    "\n",
    "def pii_filter(text: str) -> Tuple[str, Dict[str, str]]:\n",
    "    \"\"\"\n",
    "    Replaces Email IDs, Phone Numbers, and SSNs with placeholders.\n",
    "    Returns filtered_text and mapping for restoration.\n",
    "    \"\"\"\n",
    "\n",
    "    patterns = {\n",
    "        \"EMAIL\": r\"[a-zA-Z0-9._%+-]+@[a-zA-Z0-9.-]+\\.[a-zA-Z]{2,}\",\n",
    "        \"PHONE\": r\"\\b(?:\\+?1[-.\\s]?)?(?:\\(?\\d{3}\\)?[-.\\s]?|\\d{3}[-.\\s]?)\\d{3}[-.\\s]?\\d{4}\\b\",\n",
    "        \"SSN\":   r\"\\b\\d{3}-\\d{2}-\\d{4}\\b\"\n",
    "    }\n",
    "\n",
    "    mapping = {}\n",
    "    counter = {\"EMAIL\": 0, \"PHONE\": 0, \"SSN\": 0}\n",
    "\n",
    "    def replace(match, pii_type):\n",
    "        counter[pii_type] += 1\n",
    "        key = f\"[{pii_type}_{counter[pii_type]}]\"\n",
    "        mapping[key] = match.group(0)\n",
    "        return key\n",
    "\n",
    "    # Apply patterns\n",
    "    for pii_type, pattern in patterns.items():\n",
    "        text = re.sub(pattern, lambda m: replace(m, pii_type), text)\n",
    "\n",
    "    return text, mapping\n",
    "\n",
    "\n",
    "def pii_restore(text: str, mapping: Dict[str, str]) -> str:\n",
    "    \"\"\"\n",
    "    Restores placeholders in text back to original PII values.\n",
    "    \"\"\"\n",
    "    for placeholder, original in mapping.items():\n",
    "        text = text.replace(placeholder, original)\n",
    "    return text\n",
    "\n",
    "\n",
    "# ---------------- Example ----------------\n",
    "sample_text = \"\"\"\n",
    "Contact John via email john.doe@example.com or phone (123) 456-7890.\n",
    "His SSN is 123-45-6789. Another email: jane_smith@test.org and phone 987-654-3210.\n",
    "\"\"\"\n",
    "\n",
    "# Filter PII\n",
    "filtered_text, pii_map = pii_filter(sample_text)\n",
    "print(\"Filtered Text:\\n\", filtered_text)\n",
    "print(\"\\nMapping:\\n\", pii_map)\n",
    "\n",
    "# Restore PII\n",
    "restored_text = pii_restore(filtered_text, pii_map)\n",
    "print(\"\\nRestored Text:\\n\", restored_text)\n"
   ]
  }
 ],
 "metadata": {
  "kernelspec": {
   "display_name": ".venv",
   "language": "python",
   "name": "python3"
  },
  "language_info": {
   "codemirror_mode": {
    "name": "ipython",
    "version": 3
   },
   "file_extension": ".py",
   "mimetype": "text/x-python",
   "name": "python",
   "nbconvert_exporter": "python",
   "pygments_lexer": "ipython3",
   "version": "3.13.0"
  }
 },
 "nbformat": 4,
 "nbformat_minor": 5
}
