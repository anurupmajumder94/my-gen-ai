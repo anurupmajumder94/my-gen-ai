{
 "cells": [
  {
   "cell_type": "markdown",
   "id": "b8b61342",
   "metadata": {},
   "source": [
    "Input: Country Name\n",
    "Output: Describe the places to go in the Capital city of the country"
   ]
  },
  {
   "cell_type": "code",
   "execution_count": 1,
   "id": "03ac2287",
   "metadata": {},
   "outputs": [],
   "source": [
    "\n",
    "from langchain_openai import ChatOpenAI\n",
    "from dotenv import dotenv_values\n",
    "from typing import TypedDict, Annotated\n",
    "from langgraph.graph import StateGraph, START, END\n",
    "from IPython.display import Image, display\n",
    "\n",
    "config = dotenv_values(\".env\")\n",
    "\n",
    "class AgentState(TypedDict):\n",
    "   country:str\n",
    "   capital:str\n",
    "   plan:str\n",
    "   \n",
    "llm = ChatOpenAI(api_key=config[\"OPEN_AI_API_KEY\"], model=\"gpt-4o-mini\", temperature=0.1)\n",
    "\n",
    "def get_capital(agentState: AgentState):\n",
    "   prompt=f\"\"\"What is the captial of {agentState[\"country\"]}.\n",
    "   just give the city name.\n",
    "   \"\"\"\n",
    "   response=llm.invoke(prompt)\n",
    "   agentState[\"capital\"]=response.content\n",
    "   return agentState\n",
    "\n",
    "def get_plan(agentState: AgentState):\n",
    "   prompt=f\"\"\"What all are the visting places are there in {agentState[\"capital\"]}. give me a plan in 3 stences\"\"\"\n",
    "   response=llm.invoke(prompt)\n",
    "   agentState[\"plan\"]=response.content\n",
    "   return agentState"
   ]
  },
  {
   "cell_type": "code",
   "execution_count": 2,
   "id": "48974b98",
   "metadata": {},
   "outputs": [],
   "source": [
    "workflow = StateGraph(AgentState)\n",
    "workflow.add_node(\"CAPITAL\", get_capital)\n",
    "workflow.add_node(\"PLAN\", get_plan)\n",
    "\n",
    "workflow.add_edge(START, \"CAPITAL\")\n",
    "workflow.add_edge(\"CAPITAL\", \"PLAN\")\n",
    "workflow.add_edge(\"PLAN\",END)\n",
    "graph = workflow.compile()"
   ]
  },
  {
   "cell_type": "code",
   "execution_count": null,
   "id": "e214464b",
   "metadata": {},
   "outputs": [],
   "source": [
    "display_graph = graph.get_graph()\n",
    "mermaid_image_data = display_graph.draw_mermaid_png()\n",
    "display(Image(mermaid_image_data))"
   ]
  },
  {
   "cell_type": "code",
   "execution_count": 3,
   "id": "73b002a9",
   "metadata": {},
   "outputs": [
    {
     "name": "stdout",
     "output_type": "stream",
     "text": [
      "{'country': 'India', 'capital': 'New Delhi.', 'plan': \"In New Delhi, you can explore iconic landmarks such as the India Gate, the Red Fort, and the Qutub Minar, along with the serene gardens of Lodhi Garden and the vibrant markets of Chandni Chowk. Start your day with a visit to the historical sites, followed by a leisurely stroll in the gardens, and end with shopping and dining in the bustling markets. Don't forget to take some time to experience the rich culture at the National Museum or the National Gallery of Modern Art.\"}\n"
     ]
    }
   ],
   "source": [
    "agentState = {\n",
    "   \"country\" : \"India\",\n",
    "   \"capital\" : \"\",\n",
    "   \"plan\" : \"\"\n",
    "}\n",
    "agentState=graph.invoke(agentState)\n",
    "print(agentState)"
   ]
  },
  {
   "cell_type": "markdown",
   "id": "69ac9347",
   "metadata": {},
   "source": [
    "Input: Country\n",
    "Identify The best city to visit\n",
    "Loop:\n",
    "    Identify if the weather of the country is cold or hot\n",
    "    If cold then plan for next best city to visit\n",
    "Finally:\n",
    "Give a plan in about 3 lines"
   ]
  }
 ],
 "metadata": {
  "kernelspec": {
   "display_name": ".venv",
   "language": "python",
   "name": "python3"
  },
  "language_info": {
   "codemirror_mode": {
    "name": "ipython",
    "version": 3
   },
   "file_extension": ".py",
   "mimetype": "text/x-python",
   "name": "python",
   "nbconvert_exporter": "python",
   "pygments_lexer": "ipython3",
   "version": "3.13.0"
  }
 },
 "nbformat": 4,
 "nbformat_minor": 5
}
