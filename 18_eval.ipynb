{
 "cells": [
  {
   "cell_type": "markdown",
   "id": "0a8997b6",
   "metadata": {},
   "source": [
    "| Metric                | Dimension    | What it tells you                                     |\n",
    "| --------------------- | ------------ | ----------------------------------------------------- |\n",
    "| **Faithfulness**      | Groundedness | Answer is based on retrieved docs (not hallucinated). |\n",
    "| **ResponseRelevancy** | Efficacy     | Answer actually addresses the question.               |\n",
    "| **AnswerCorrectness** | Coherence    | Answer matches the expected ground truth.             |\n",
    "| **ContextRecall**     | Completeness | Retrieved context covers all needed info.             |\n",
    "| **ContextPrecision**  | Precision    | Retrieved context avoids irrelevant info.             |\n"
   ]
  },
  {
   "cell_type": "code",
   "execution_count": 34,
   "id": "898c707c",
   "metadata": {},
   "outputs": [
    {
     "name": "stdout",
     "output_type": "stream",
     "text": [
      "{'faithfulness': 1.0000, 'answer_relevancy': 0.9564, 'answer_correctness': 0.9503, 'context_recall': 1.0000, 'context_precision': 1.0000}\n"
     ]
    }
   ],
   "source": [
    "from ragas import evaluate\n",
    "from ragas.metrics import Faithfulness, ResponseRelevancy, AnswerCorrectness, ContextRecall, ContextPrecision\n",
    "from datasets import Dataset\n",
    "from ragas.llms import LangchainLLMWrapper\n",
    "from langchain_openai import ChatOpenAI\n",
    "\n",
    "\n",
    "data = {\n",
    "    \"question\": [\"Who wrote 1984?\"],\n",
    "    \"answer\": [\"1984 was written by George Orwell.\"],\n",
    "    \"contexts\": [[\"1984 is a dystopian novel written by George Orwell in 1949.\"]],\n",
    "    \"ground_truth\": [\"George Orwell wrote the novel 1984.\"]\n",
    "}\n",
    "dataset = Dataset.from_dict(data)\n",
    "\n",
    "llm = LangchainLLMWrapper(ChatOpenAI(api_key=config[\"OPEN_AI_API_KEY\"], model=\"gpt-4o-mini\", temperature=0.1))\n",
    "embeddings = LangchainEmbeddingsWrapper(OpenAIEmbeddings(api_key=config[\"OPEN_AI_API_KEY\"], model=\"text-embedding-3-small\"))\n",
    "\n",
    "metrics = [\n",
    "    Faithfulness(),        # Groundedness\n",
    "    ResponseRelevancy(),   # Efficacy\n",
    "    AnswerCorrectness(),   # Coherence\n",
    "    ContextRecall(),       # Completeness\n",
    "    ContextPrecision()     # Precision\n",
    "]\n",
    "\n",
    "results = evaluate(dataset, metrics=metrics, llm=llm, embeddings=embeddings, show_progress=False)\n",
    "print(results)"
   ]
  },
  {
   "cell_type": "code",
   "execution_count": null,
   "id": "b6749d6f",
   "metadata": {},
   "outputs": [],
   "source": []
  }
 ],
 "metadata": {
  "kernelspec": {
   "display_name": ".venv",
   "language": "python",
   "name": "python3"
  },
  "language_info": {
   "codemirror_mode": {
    "name": "ipython",
    "version": 3
   },
   "file_extension": ".py",
   "mimetype": "text/x-python",
   "name": "python",
   "nbconvert_exporter": "python",
   "pygments_lexer": "ipython3",
   "version": "3.13.0"
  }
 },
 "nbformat": 4,
 "nbformat_minor": 5
}
