{
 "cells": [
  {
   "cell_type": "code",
   "execution_count": null,
   "id": "bc7c6de8",
   "metadata": {},
   "outputs": [],
   "source": [
    "from langgraph.graph.message import add_messages, BaseMessage\n",
    "from langchain_openai import ChatOpenAI\n",
    "from dotenv import dotenv_values\n",
    "from typing import TypedDict, Annotated\n",
    "from langgraph.graph import StateGraph, START, END\n",
    "from IPython.display import Image, display\n",
    "from langchain_core.tools import tool\n",
    "from langgraph.prebuilt import ToolNode, tools_condition\n",
    "from langgraph.checkpoint.memory import MemorySaver\n",
    "\n",
    "config = dotenv_values(\".env\")"
   ]
  },
  {
   "cell_type": "code",
   "execution_count": null,
   "id": "38fd9935",
   "metadata": {},
   "outputs": [],
   "source": [
    "def add_messages_with_limit(left, right, limit=4):\n",
    "    merged = add_messages(left, right)\n",
    "    return merged[-limit:]"
   ]
  },
  {
   "cell_type": "code",
   "execution_count": null,
   "id": "2977dfb6",
   "metadata": {},
   "outputs": [],
   "source": [
    "@tool\n",
    "def get_latest_news(place:str)->str:\n",
    "    \"\"\"\n",
    "    Returns latest news based on the place\n",
    "    Args:\n",
    "        place (str): Name of a place\n",
    "\n",
    "    Returns:\n",
    "        str: Current News\n",
    "    \"\"\"\n",
    "    print(\"I am invoked: get_latest_news\")\n",
    "    if place == \"Asia\":\n",
    "        return \"There is a war\"\n",
    "    else:\n",
    "        return \"There is peace\"\n",
    "\n",
    "@tool\n",
    "def get_latest_weather(place:str)->str:\n",
    "    \"\"\"\n",
    "    Returns latest weather based on the place\n",
    "    Args:\n",
    "        place (str): Name of a place\n",
    "\n",
    "\n",
    "    Returns:\n",
    "        str: Current Weather\n",
    "    \"\"\"    \n",
    "    print(\"I am invoked: get_latest_weather\")\n",
    "    if place == \"Kolkata\":\n",
    "        return \"It is Rainy\"\n",
    "    else:\n",
    "        return \"It is Sunny\""
   ]
  },
  {
   "cell_type": "code",
   "execution_count": null,
   "id": "d70b8142",
   "metadata": {},
   "outputs": [],
   "source": [
    "class State(TypedDict):\n",
    "    messages: Annotated[list[BaseMessage], lambda l, r: add_messages_with_limit(l, r, limit=4)]"
   ]
  },
  {
   "cell_type": "code",
   "execution_count": null,
   "id": "efae6a0d",
   "metadata": {},
   "outputs": [],
   "source": [
    "llm = ChatOpenAI(api_key=config[\"OPEN_AI_API_KEY\"], model=\"gpt-4o-mini\", temperature=0.1)"
   ]
  },
  {
   "cell_type": "code",
   "execution_count": null,
   "id": "304091c6",
   "metadata": {},
   "outputs": [],
   "source": [
    "graph_builder = StateGraph(State)\n",
    "\n",
    "tools = [get_latest_news, get_latest_weather]\n",
    "llm_with_tools = llm.bind_tools(tools)\n",
    "\n",
    "def chatbot(state: State):\n",
    "    return {\"messages\": [llm_with_tools.invoke(state[\"messages\"])]}\n",
    "\n",
    "graph_builder.add_node(\"chatbot\", chatbot)\n",
    "tool_node = ToolNode(tools=tools)\n",
    "graph_builder.add_node(\"tools\", tool_node)\n",
    "\n",
    "graph_builder.add_conditional_edges(\n",
    "    \"chatbot\",\n",
    "    tools_condition,\n",
    ")\n",
    "graph_builder.add_edge(\"tools\", \"chatbot\")\n",
    "graph_builder.add_edge(START, \"chatbot\")\n",
    "memory = MemorySaver()\n",
    "graph = graph_builder.compile(checkpointer=memory)"
   ]
  },
  {
   "cell_type": "code",
   "execution_count": null,
   "id": "2ffc3935",
   "metadata": {},
   "outputs": [],
   "source": [
    "try:\n",
    "    display(Image(graph.get_graph().draw_mermaid_png()))\n",
    "except Exception as e:\n",
    "    print(\"Exception occured {}\".format(e))"
   ]
  },
  {
   "cell_type": "code",
   "execution_count": null,
   "id": "a97edc65",
   "metadata": {},
   "outputs": [],
   "source": [
    "config = {\"configurable\": {\"thread_id\": \"1\"}}\n",
    "\n",
    "def stream_graph_updates(user_input: str):\n",
    "    response = graph.invoke({\"messages\": [{\"role\": \"user\", \"content\": user_input}]}, config)\n",
    "    print(\"Assistant:\", response[\"messages\"][-1].content)\n",
    "    print(len(response[\"messages\"]))\n",
    "            \n",
    "while True:\n",
    "    user_input = input(\"User: \")\n",
    "    print(\"User:\", user_input)\n",
    "    if user_input.lower() in [\"quit\", \"exit\", \"q\"]:\n",
    "        print(\"Assistant: \", \"Goodbye!\")\n",
    "        break\n",
    "    stream_graph_updates(user_input)"
   ]
  }
 ],
 "metadata": {
  "kernelspec": {
   "display_name": ".venv",
   "language": "python",
   "name": "python3"
  },
  "language_info": {
   "codemirror_mode": {
    "name": "ipython",
    "version": 3
   },
   "file_extension": ".py",
   "mimetype": "text/x-python",
   "name": "python",
   "nbconvert_exporter": "python",
   "pygments_lexer": "ipython3",
   "version": "3.13.0"
  }
 },
 "nbformat": 4,
 "nbformat_minor": 5
}
