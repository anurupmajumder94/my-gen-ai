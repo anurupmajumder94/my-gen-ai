{
 "cells": [
  {
   "cell_type": "code",
   "execution_count": 3,
   "id": "ef718d33",
   "metadata": {},
   "outputs": [],
   "source": [
    "from langchain_text_splitters import CharacterTextSplitter, RecursiveCharacterTextSplitter"
   ]
  },
  {
   "cell_type": "code",
   "execution_count": 14,
   "id": "f68308d2",
   "metadata": {},
   "outputs": [],
   "source": [
    "def chunk_character_text_splitter(text):\n",
    "    text_splitter = CharacterTextSplitter(\n",
    "        chunk_size=200,\n",
    "        chunk_overlap=20,\n",
    "        separator = \". \"\n",
    "    )\n",
    "    chunks = text_splitter.split_text(text)\n",
    "    return chunks\n",
    "\n",
    "def recursive_character_text_splitter(text):\n",
    "    text_splitter = RecursiveCharacterTextSplitter(\n",
    "        chunk_size=300,\n",
    "        chunk_overlap=20,\n",
    "        separators=[\"\\n\\n\", \"\\n\", \" \", \"\"]\n",
    "    )\n",
    "    chunks = text_splitter.split_text(text)\n",
    "    return chunks"
   ]
  },
  {
   "cell_type": "code",
   "execution_count": 15,
   "id": "18ac31b1",
   "metadata": {},
   "outputs": [
    {
     "name": "stdout",
     "output_type": "stream",
     "text": [
      "\n",
      "\n",
      "Recursive Text Splitter\n",
      "Chunk 1: Andhra Pradesh unfolds gracefully along India’s southeast coast, with its capital in Amaravati, a city rising on the banks of the Krishna River embraced by a rich Dravidian heritage.\n",
      "\n",
      "Chunk 2: The historic twin cities of Vijayawada and Visakhapatnam serve as major urban anchors, blending commercial vitality with spiritual traditions.\n",
      "\n",
      "Chunk 3: Famous for its classical Kuchipudi dance, vibrant temple architecture such as the Tirumala Venkateswara temple, and spicy cuisine, the state also boasts innovators like the poet-singer Tirupati and public servants such as N. Chandrababu Naidu.\n",
      "\n",
      "Chunk 4: It lies in South India, bordered by Telangana, Odisha, and the Bay of Bengal—exuding cultural warmth and coastal charm.\n",
      "\n"
     ]
    }
   ],
   "source": [
    "text = \"\"\"\n",
    "Andhra Pradesh unfolds gracefully along India’s southeast coast, with its capital in Amaravati, a city rising on the banks of the Krishna River embraced by a rich Dravidian heritage.\n",
    "The historic twin cities of Vijayawada and Visakhapatnam serve as major urban anchors, blending commercial vitality with spiritual traditions.\n",
    "Famous for its classical Kuchipudi dance, vibrant temple architecture such as the Tirumala Venkateswara temple, and spicy cuisine, the state also boasts innovators like the poet-singer Tirupati and public servants such as N. Chandrababu Naidu.\n",
    "It lies in South India, bordered by Telangana, Odisha, and the Bay of Bengal—exuding cultural warmth and coastal charm.\n",
    "\"\"\"\n",
    "\n",
    "# print(\"\\n\\nCharater Text Splitter\")\n",
    "# chunks = chunk_character_text_splitter(text)\n",
    "# for i, chunk in enumerate(chunks, 1):\n",
    "#     print(f\"Chunk {i}: {chunk}\\n\")\n",
    "\n",
    "print(\"\\n\\nRecursive Text Splitter\")\n",
    "chunks = recursive_character_text_splitter(text)\n",
    "for i, chunk in enumerate(chunks, 1):\n",
    "    print(f\"Chunk {i}: {chunk}\\n\")"
   ]
  }
 ],
 "metadata": {
  "kernelspec": {
   "display_name": ".venv",
   "language": "python",
   "name": "python3"
  },
  "language_info": {
   "codemirror_mode": {
    "name": "ipython",
    "version": 3
   },
   "file_extension": ".py",
   "mimetype": "text/x-python",
   "name": "python",
   "nbconvert_exporter": "python",
   "pygments_lexer": "ipython3",
   "version": "3.13.0"
  }
 },
 "nbformat": 4,
 "nbformat_minor": 5
}
