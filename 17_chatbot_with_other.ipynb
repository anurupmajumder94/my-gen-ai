{
 "cells": [
  {
   "cell_type": "code",
   "execution_count": 4,
   "id": "b3de7f1a",
   "metadata": {},
   "outputs": [
    {
     "name": "stdout",
     "output_type": "stream",
     "text": [
      "Final Messages:\n",
      "content='Hi!' additional_kwargs={} response_metadata={} id='a811e6e7-a242-4e46-ba03-3f01a757e8f9'\n",
      "content='Hello Anurup 👋! How can I help you today?' additional_kwargs={} response_metadata={} id='caf2b0fb-5f4a-4a45-b2cf-6cdf52aa4fcd'\n",
      "content='Hello! How can I assist you today?' additional_kwargs={'refusal': None} response_metadata={'token_usage': {'completion_tokens': 9, 'prompt_tokens': 27, 'total_tokens': 36, 'completion_tokens_details': {'accepted_prediction_tokens': 0, 'audio_tokens': 0, 'reasoning_tokens': 0, 'rejected_prediction_tokens': 0}, 'prompt_tokens_details': {'audio_tokens': 0, 'cached_tokens': 0}}, 'model_name': 'gpt-4o-mini-2024-07-18', 'system_fingerprint': 'fp_560af6e559', 'id': 'chatcmpl-C8qCanxYSLzJ9kV34gaUpOADPyRAi', 'service_tier': 'default', 'finish_reason': 'stop', 'logprobs': None} id='run--e3643d91-e4af-4662-b292-c2a892c2f38b-0' usage_metadata={'input_tokens': 27, 'output_tokens': 9, 'total_tokens': 36, 'input_token_details': {'audio': 0, 'cache_read': 0}, 'output_token_details': {'audio': 0, 'reasoning': 0}}\n",
      "\n",
      "Turn count: 1\n"
     ]
    }
   ],
   "source": [
    "from typing import TypedDict, Annotated\n",
    "from langgraph.graph import StateGraph, END\n",
    "from langgraph.graph.message import add_messages\n",
    "from langchain_openai import ChatOpenAI\n",
    "from dotenv import dotenv_values\n",
    "\n",
    "config = dotenv_values(\".env\")\n",
    "\n",
    "# ---- Define State ----\n",
    "class ChatState(TypedDict):\n",
    "    messages: Annotated[list, add_messages]  # conversation history (auto-appends)\n",
    "    user_name: str                           # extra variable\n",
    "    turn_count: int                          # tracks number of turns\n",
    "\n",
    "# ---- Model ----\n",
    "llm = ChatOpenAI(api_key=config[\"OPEN_AI_API_KEY\"], model=\"gpt-4o-mini\", temperature=0.1)\n",
    "\n",
    "# ---- Nodes ----\n",
    "def greet_user(state: ChatState):\n",
    "    \"\"\"First node: greet user using stored variable\"\"\"\n",
    "    reply = f\"Hello {state['user_name']} 👋! How can I help you today?\"\n",
    "    return {\"messages\": [{\"role\": \"assistant\", \"content\": reply}]}\n",
    "\n",
    "\n",
    "def chat_node(state: ChatState):\n",
    "    \"\"\"Main chat node: uses both messages + other variables\"\"\"\n",
    "    # update turn count\n",
    "    new_count = state[\"turn_count\"] + 1\n",
    "    \n",
    "    # generate response\n",
    "    response = llm.invoke(state[\"messages\"])\n",
    "    \n",
    "    return {\n",
    "        \"messages\": [response],   # auto-appended by add_messages\n",
    "        \"turn_count\": new_count\n",
    "    }\n",
    "\n",
    "# ---- Graph ----\n",
    "workflow = StateGraph(ChatState)\n",
    "\n",
    "workflow.add_node(\"greet\", greet_user)\n",
    "workflow.add_node(\"chat\", chat_node)\n",
    "\n",
    "workflow.set_entry_point(\"greet\")\n",
    "workflow.add_edge(\"greet\", \"chat\")\n",
    "workflow.add_edge(\"chat\", END)\n",
    "\n",
    "graph = workflow.compile()\n",
    "\n",
    "# ---- Run Example ----\n",
    "input_state = {\n",
    "    \"messages\": [{\"role\": \"user\", \"content\": \"Hi!\"}],\n",
    "    \"user_name\": \"Anurup\",\n",
    "    \"turn_count\": 0,\n",
    "}\n",
    "\n",
    "final_state = graph.invoke(input_state)\n",
    "\n",
    "print(\"Final Messages:\")\n",
    "for m in final_state[\"messages\"]:\n",
    "    print(m)\n",
    "\n",
    "print(\"\\nTurn count:\", final_state[\"turn_count\"])"
   ]
  },
  {
   "cell_type": "code",
   "execution_count": null,
   "id": "5f30e64a",
   "metadata": {},
   "outputs": [],
   "source": []
  }
 ],
 "metadata": {
  "kernelspec": {
   "display_name": ".venv",
   "language": "python",
   "name": "python3"
  },
  "language_info": {
   "codemirror_mode": {
    "name": "ipython",
    "version": 3
   },
   "file_extension": ".py",
   "mimetype": "text/x-python",
   "name": "python",
   "nbconvert_exporter": "python",
   "pygments_lexer": "ipython3",
   "version": "3.13.0"
  }
 },
 "nbformat": 4,
 "nbformat_minor": 5
}
