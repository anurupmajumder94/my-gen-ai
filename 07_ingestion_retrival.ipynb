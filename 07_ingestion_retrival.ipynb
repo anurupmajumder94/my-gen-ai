{
 "cells": [
  {
   "cell_type": "code",
   "execution_count": 17,
   "id": "c511bca9",
   "metadata": {},
   "outputs": [],
   "source": [
    "from langchain_openai import OpenAIEmbeddings\n",
    "from langchain_chroma import Chroma\n",
    "import pandas as pd\n",
    "from dotenv import dotenv_values\n",
    "config = dotenv_values(\".env\")\n",
    "persistent_directory = \"db/incidents\"\n"
   ]
  },
  {
   "cell_type": "code",
   "execution_count": 18,
   "id": "957d2d01",
   "metadata": {},
   "outputs": [],
   "source": [
    "def ingest(incident_file_path=\"data/incidents.csv\"):\n",
    "    df = pd.read_csv(incident_file_path)\n",
    "    incidents = df[\"description\"].tolist()\n",
    "    metadatas = df.to_dict(orient='records')\n",
    "    embeddings = OpenAIEmbeddings(api_key=config[\"OPEN_AI_API_KEY\"], model='text-embedding-3-large')\n",
    "    Chroma.from_texts(incidents, embedding = embeddings, metadatas=metadatas, persist_directory=persistent_directory)\n",
    "ingest()"
   ]
  },
  {
   "cell_type": "code",
   "execution_count": 21,
   "id": "351281bb",
   "metadata": {},
   "outputs": [],
   "source": [
    "def retrive(incident_description):\n",
    "    embeddings = OpenAIEmbeddings(api_key=config[\"OPEN_AI_API_KEY\"], model='text-embedding-3-large')\n",
    "    db = Chroma(persist_directory=persistent_directory,\n",
    "                embedding_function=embeddings)\n",
    "    retriever = db.as_retriever(\n",
    "        search_type=\"similarity_score_threshold\",\n",
    "        search_kwargs={\"k\": 3, \"score_threshold\": 0.7},\n",
    "    )\n",
    "    relevant_incidents = retriever.invoke(incident_description)\n",
    "    return relevant_incidents\n",
    "relevant_incidents = retrive(\"Wrong feature flag set for Reporting; users in us-west-2 see incomplete menu.\")"
   ]
  },
  {
   "cell_type": "code",
   "execution_count": 25,
   "id": "0dd9ecfe",
   "metadata": {},
   "outputs": [],
   "source": [
    "contexts = []\n",
    "for relevant_incident in relevant_incidents:\n",
    "    contexts.append(\n",
    "    {\n",
    "        'description':relevant_incident.metadata['description'],\n",
    "        'solution':relevant_incident.metadata['solution']\n",
    "    })"
   ]
  },
  {
   "cell_type": "code",
   "execution_count": 26,
   "id": "b8d6749f",
   "metadata": {},
   "outputs": [
    {
     "data": {
      "text/plain": [
       "[{'description': 'Wrong feature flag set for Reporting; users in us-west-2 see incomplete menu.',\n",
       "  'solution': 'Restored feature flag defaults per environment; added change control.'},\n",
       " {'description': 'Wrong feature flag set for Reporting; users in us-west-2 see incomplete menu.',\n",
       "  'solution': 'Restored feature flag defaults per environment; added change control.'},\n",
       " {'description': 'Wrong feature flag set for Reporting; users in us-west-2 see incomplete menu.',\n",
       "  'solution': 'Restored feature flag defaults per environment; added change control.'}]"
      ]
     },
     "execution_count": 26,
     "metadata": {},
     "output_type": "execute_result"
    }
   ],
   "source": [
    "contexts"
   ]
  },
  {
   "cell_type": "code",
   "execution_count": null,
   "id": "a3cb0018",
   "metadata": {},
   "outputs": [],
   "source": []
  }
 ],
 "metadata": {
  "kernelspec": {
   "display_name": ".venv",
   "language": "python",
   "name": "python3"
  },
  "language_info": {
   "codemirror_mode": {
    "name": "ipython",
    "version": 3
   },
   "file_extension": ".py",
   "mimetype": "text/x-python",
   "name": "python",
   "nbconvert_exporter": "python",
   "pygments_lexer": "ipython3",
   "version": "3.13.0"
  }
 },
 "nbformat": 4,
 "nbformat_minor": 5
}
