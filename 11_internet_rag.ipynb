{
 "cells": [
  {
   "cell_type": "code",
   "execution_count": null,
   "id": "805cfecd",
   "metadata": {},
   "outputs": [],
   "source": [
    "from langchain_openai import ChatOpenAI\n",
    "from dotenv import dotenv_values\n",
    "from typing import TypedDict, Annotated\n",
    "from langgraph.graph import StateGraph, START, END\n",
    "from IPython.display import Image, display\n",
    "from tavily import TavilyClient\n",
    "config = dotenv_values(\".env\")\n",
    "llm = ChatOpenAI(api_key=config[\"OPEN_AI_API_KEY\"], model=\"gpt-4o-mini\", temperature=0.1)"
   ]
  },
  {
   "cell_type": "code",
   "execution_count": 15,
   "id": "de8aa1a1",
   "metadata": {},
   "outputs": [],
   "source": [
    "class AgentState(TypedDict):\n",
    "   question: str\n",
    "   context: str\n",
    "   answer: str"
   ]
  },
  {
   "cell_type": "code",
   "execution_count": 16,
   "id": "a120d84a",
   "metadata": {},
   "outputs": [],
   "source": [
    "def get_context(agentState: AgentState):\n",
    "    client = TavilyClient(api_key=config[\"TAVILY_API_KEY\"])\n",
    "    response = client.search(\n",
    "        query = agentState[\"question\"],\n",
    "        search_depth=\"advanced\",       # \"basic\" | \"advanced\"\n",
    "        topic=\"news\",                  # boosts recent/news results\n",
    "        max_age_days=14,               # recency window\n",
    "        max_results=5,                 # number of sources to return\n",
    "        include_answer=True,\n",
    "        include_images=False,\n",
    "        include_raw_content=False,\n",
    "        include_domains=[\"reuters.com\", \"economictimes.indiatimes.com\"],\n",
    "        exclude_domains=[]\n",
    "    )\n",
    "    contexts = []\n",
    "    for item in response:\n",
    "        contexts.append(\n",
    "            {\n",
    "                'Title':response['results'][0]['title'],\n",
    "                'Content':response['results'][0]['content']\n",
    "            })\n",
    "    agentState[\"context\"] = contexts\n",
    "    return agentState\n",
    "\n",
    "def generate_answer(agentState: AgentState):\n",
    "    prompt = f\"\"\"\n",
    "    You are a helpful assistant. Answer the following question from the user.\n",
    "    Question: {agentState[\"question\"]}\n",
    "\n",
    "    Your answer must be from the below context only, \n",
    "    If you do not find the answer in context mentioned you dont know \n",
    "    do not make up answer on your own\n",
    "\n",
    "    Context: {agentState[\"context\"]}\n",
    "    \"\"\"\n",
    "    agentState[\"answer\"] = llm.invoke(prompt)\n",
    "    return agentState"
   ]
  },
  {
   "cell_type": "code",
   "execution_count": 17,
   "id": "8e494d78",
   "metadata": {},
   "outputs": [],
   "source": [
    "workflow = StateGraph(AgentState)\n",
    "workflow.add_node(\"RETRIVAL\", get_context)\n",
    "workflow.add_node(\"GENERATION\", generate_answer)\n",
    "\n",
    "workflow.add_edge(START, \"RETRIVAL\")\n",
    "workflow.add_edge(\"RETRIVAL\", \"GENERATION\")\n",
    "workflow.add_edge(\"GENERATION\",END)\n",
    "graph = workflow.compile()"
   ]
  },
  {
   "cell_type": "code",
   "execution_count": 18,
   "id": "e506ee5f",
   "metadata": {},
   "outputs": [
    {
     "data": {
      "image/png": "[encoded data removed]",
      "text/plain": [
       "<IPython.core.display.Image object>"
      ]
     },
     "metadata": {},
     "output_type": "display_data"
    }
   ],
   "source": [
    "display(Image(graph.get_graph().draw_mermaid_png()))"
   ]
  },
  {
   "cell_type": "code",
   "execution_count": 19,
   "id": "027c1339",
   "metadata": {},
   "outputs": [],
   "source": [
    "agentState : AgentState = {\n",
    "    \"question\": \"Is there a WAR bewtween Russia and Ukraine\",\n",
    "    \"context\": \"\",\n",
    "    \"answer\": \"\"\n",
    "}\n",
    "\n",
    "agentState=graph.invoke(agentState)"
   ]
  },
  {
   "cell_type": "code",
   "execution_count": 22,
   "id": "cb103cde",
   "metadata": {},
   "outputs": [
    {
     "name": "stdout",
     "output_type": "stream",
     "text": [
      "{'question': 'Is there a WAR bewtween Russia and Ukraine', 'context': [{'Title': 'US, Europe create military options on Ukraine, intend to present to national security advisers next - Reuters', 'Content': \"Russia says it is engaged in a “special military operation” in Ukraine to protect its national security, claiming NATO’s eastward expansion and Western military support for Ukraine pose existential threats. Kyiv and its Western allies say the invasion is an imperial-style land grab.\\n\\nDespite Trump's push to end the war, Russia attacked a gas compressor station in eastern Ukraine that is important for getting gas into storage facilities for the winter heating season. [...] Reuters has previously reported that U.S. and European military planners have begun exploring post-conflict security guarantees for Ukraine, following President Donald Trump's pledge to help protect the country under any deal to end Russia's war in Ukraine.\\n\\nThe Reuters Daily Briefing newsletter provides all the news you need to start your day. Sign up here.\\n\\nAdvertisement · Scroll to continue [...] Trump has pressed for a quick end to Europe's deadliest war in 80 years, and Kyiv and its allies have worried he could seek to force an agreement on Russia's terms after the president last week rolled out the red carpet for Russian leader Vladimir Putin.\"}, {'Title': 'US, Europe create military options on Ukraine, intend to present to national security advisers next - Reuters', 'Content': \"Russia says it is engaged in a “special military operation” in Ukraine to protect its national security, claiming NATO’s eastward expansion and Western military support for Ukraine pose existential threats. Kyiv and its Western allies say the invasion is an imperial-style land grab.\\n\\nDespite Trump's push to end the war, Russia attacked a gas compressor station in eastern Ukraine that is important for getting gas into storage facilities for the winter heating season. [...] Reuters has previously reported that U.S. and European military planners have begun exploring post-conflict security guarantees for Ukraine, following President Donald Trump's pledge to help protect the country under any deal to end Russia's war in Ukraine.\\n\\nThe Reuters Daily Briefing newsletter provides all the news you need to start your day. Sign up here.\\n\\nAdvertisement · Scroll to continue [...] Trump has pressed for a quick end to Europe's deadliest war in 80 years, and Kyiv and its allies have worried he could seek to force an agreement on Russia's terms after the president last week rolled out the red carpet for Russian leader Vladimir Putin.\"}, {'Title': 'US, Europe create military options on Ukraine, intend to present to national security advisers next - Reuters', 'Content': \"Russia says it is engaged in a “special military operation” in Ukraine to protect its national security, claiming NATO’s eastward expansion and Western military support for Ukraine pose existential threats. Kyiv and its Western allies say the invasion is an imperial-style land grab.\\n\\nDespite Trump's push to end the war, Russia attacked a gas compressor station in eastern Ukraine that is important for getting gas into storage facilities for the winter heating season. [...] Reuters has previously reported that U.S. and European military planners have begun exploring post-conflict security guarantees for Ukraine, following President Donald Trump's pledge to help protect the country under any deal to end Russia's war in Ukraine.\\n\\nThe Reuters Daily Briefing newsletter provides all the news you need to start your day. Sign up here.\\n\\nAdvertisement · Scroll to continue [...] Trump has pressed for a quick end to Europe's deadliest war in 80 years, and Kyiv and its allies have worried he could seek to force an agreement on Russia's terms after the president last week rolled out the red carpet for Russian leader Vladimir Putin.\"}, {'Title': 'US, Europe create military options on Ukraine, intend to present to national security advisers next - Reuters', 'Content': \"Russia says it is engaged in a “special military operation” in Ukraine to protect its national security, claiming NATO’s eastward expansion and Western military support for Ukraine pose existential threats. Kyiv and its Western allies say the invasion is an imperial-style land grab.\\n\\nDespite Trump's push to end the war, Russia attacked a gas compressor station in eastern Ukraine that is important for getting gas into storage facilities for the winter heating season. [...] Reuters has previously reported that U.S. and European military planners have begun exploring post-conflict security guarantees for Ukraine, following President Donald Trump's pledge to help protect the country under any deal to end Russia's war in Ukraine.\\n\\nThe Reuters Daily Briefing newsletter provides all the news you need to start your day. Sign up here.\\n\\nAdvertisement · Scroll to continue [...] Trump has pressed for a quick end to Europe's deadliest war in 80 years, and Kyiv and its allies have worried he could seek to force an agreement on Russia's terms after the president last week rolled out the red carpet for Russian leader Vladimir Putin.\"}, {'Title': 'US, Europe create military options on Ukraine, intend to present to national security advisers next - Reuters', 'Content': \"Russia says it is engaged in a “special military operation” in Ukraine to protect its national security, claiming NATO’s eastward expansion and Western military support for Ukraine pose existential threats. Kyiv and its Western allies say the invasion is an imperial-style land grab.\\n\\nDespite Trump's push to end the war, Russia attacked a gas compressor station in eastern Ukraine that is important for getting gas into storage facilities for the winter heating season. [...] Reuters has previously reported that U.S. and European military planners have begun exploring post-conflict security guarantees for Ukraine, following President Donald Trump's pledge to help protect the country under any deal to end Russia's war in Ukraine.\\n\\nThe Reuters Daily Briefing newsletter provides all the news you need to start your day. Sign up here.\\n\\nAdvertisement · Scroll to continue [...] Trump has pressed for a quick end to Europe's deadliest war in 80 years, and Kyiv and its allies have worried he could seek to force an agreement on Russia's terms after the president last week rolled out the red carpet for Russian leader Vladimir Putin.\"}, {'Title': 'US, Europe create military options on Ukraine, intend to present to national security advisers next - Reuters', 'Content': \"Russia says it is engaged in a “special military operation” in Ukraine to protect its national security, claiming NATO’s eastward expansion and Western military support for Ukraine pose existential threats. Kyiv and its Western allies say the invasion is an imperial-style land grab.\\n\\nDespite Trump's push to end the war, Russia attacked a gas compressor station in eastern Ukraine that is important for getting gas into storage facilities for the winter heating season. [...] Reuters has previously reported that U.S. and European military planners have begun exploring post-conflict security guarantees for Ukraine, following President Donald Trump's pledge to help protect the country under any deal to end Russia's war in Ukraine.\\n\\nThe Reuters Daily Briefing newsletter provides all the news you need to start your day. Sign up here.\\n\\nAdvertisement · Scroll to continue [...] Trump has pressed for a quick end to Europe's deadliest war in 80 years, and Kyiv and its allies have worried he could seek to force an agreement on Russia's terms after the president last week rolled out the red carpet for Russian leader Vladimir Putin.\"}, {'Title': 'US, Europe create military options on Ukraine, intend to present to national security advisers next - Reuters', 'Content': \"Russia says it is engaged in a “special military operation” in Ukraine to protect its national security, claiming NATO’s eastward expansion and Western military support for Ukraine pose existential threats. Kyiv and its Western allies say the invasion is an imperial-style land grab.\\n\\nDespite Trump's push to end the war, Russia attacked a gas compressor station in eastern Ukraine that is important for getting gas into storage facilities for the winter heating season. [...] Reuters has previously reported that U.S. and European military planners have begun exploring post-conflict security guarantees for Ukraine, following President Donald Trump's pledge to help protect the country under any deal to end Russia's war in Ukraine.\\n\\nThe Reuters Daily Briefing newsletter provides all the news you need to start your day. Sign up here.\\n\\nAdvertisement · Scroll to continue [...] Trump has pressed for a quick end to Europe's deadliest war in 80 years, and Kyiv and its allies have worried he could seek to force an agreement on Russia's terms after the president last week rolled out the red carpet for Russian leader Vladimir Putin.\"}], 'answer': AIMessage(content='Yes, there is a war between Russia and Ukraine. Russia refers to its actions as a \"special military operation,\" while Ukraine and its allies describe it as an invasion and an imperial-style land grab.', additional_kwargs={'refusal': None}, response_metadata={'token_usage': {'completion_tokens': 40, 'prompt_tokens': 1765, 'total_tokens': 1805, 'completion_tokens_details': {'accepted_prediction_tokens': 0, 'audio_tokens': 0, 'reasoning_tokens': 0, 'rejected_prediction_tokens': 0}, 'prompt_tokens_details': {'audio_tokens': 0, 'cached_tokens': 0}}, 'model_name': 'gpt-4o-mini-2024-07-18', 'system_fingerprint': 'fp_560af6e559', 'id': 'chatcmpl-C8XaAdMw7ckRvUFwkwmR8QwUW5nIB', 'service_tier': 'default', 'finish_reason': 'stop', 'logprobs': None}, id='run--4d1e801b-9f46-4a1a-a5bc-a2a2bdfde9dd-0', usage_metadata={'input_tokens': 1765, 'output_tokens': 40, 'total_tokens': 1805, 'input_token_details': {'audio': 0, 'cache_read': 0}, 'output_token_details': {'audio': 0, 'reasoning': 0}})}\n"
     ]
    }
   ],
   "source": [
    "print(agentState)"
   ]
  }
 ],
 "metadata": {
  "kernelspec": {
   "display_name": ".venv",
   "language": "python",
   "name": "python3"
  },
  "language_info": {
   "codemirror_mode": {
    "name": "ipython",
    "version": 3
   },
   "file_extension": ".py",
   "mimetype": "text/x-python",
   "name": "python",
   "nbconvert_exporter": "python",
   "pygments_lexer": "ipython3",
   "version": "3.13.0"
  }
 },
 "nbformat": 4,
 "nbformat_minor": 5
}
