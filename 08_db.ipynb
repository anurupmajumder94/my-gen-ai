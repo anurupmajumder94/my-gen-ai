{
 "cells": [
  {
   "cell_type": "code",
   "execution_count": 29,
   "id": "10b5a23c",
   "metadata": {},
   "outputs": [],
   "source": [
    "import sqlite3\n",
    "import pandas as pd\n",
    "from datetime import datetime\n",
    "db_path=\"db/sql/ams.db\"\n",
    "table_name=\"TBL_INC\""
   ]
  },
  {
   "cell_type": "code",
   "execution_count": 30,
   "id": "9db8e8c5",
   "metadata": {},
   "outputs": [],
   "source": [
    "def restore_db(incident_file_path=\"data/incidents.csv\"):\n",
    "    conn = sqlite3.connect(db_path)\n",
    "    df = pd.read_csv(incident_file_path)    \n",
    "    df.to_sql(table_name, conn, if_exists=\"replace\", index=False)\n",
    "    conn.close()"
   ]
  },
  {
   "cell_type": "code",
   "execution_count": 31,
   "id": "929a0eeb",
   "metadata": {},
   "outputs": [],
   "source": [
    "def read_from_db():\n",
    "    conn = sqlite3.connect(db_path)\n",
    "    query = \"SELECT * FROM TBL_INC;\"\n",
    "    df= pd.read_sql(query, conn)\n",
    "    conn.commit()\n",
    "    conn.close()\n",
    "    print(df.tail())"
   ]
  },
  {
   "cell_type": "code",
   "execution_count": 32,
   "id": "57fb0a29",
   "metadata": {},
   "outputs": [],
   "source": [
    "def insert_to_db():\n",
    "    conn = sqlite3.connect(db_path)\n",
    "    cursor = conn.cursor()\n",
    "\n",
    "    incident_number = 'INC106677'\n",
    "    application_name = 'InvoicePro'\n",
    "    description = 'Slow page loads in Reporting for MobileBank from ap-southeast-1; p95 latency > 5s on Firefox 128.'\n",
    "    time = '2025-07-26 16:22'\n",
    "    category = 'Performance Degradation'\n",
    "    solution = 'Warmed cache, scaled autoscaler to 3x, and optimized slow SQL; p95 < 800ms.'\n",
    "\n",
    "    query = f\"\"\"\n",
    "    INSERT INTO TBL_INC (incident_number,application_name,description,time,category,solution)\n",
    "    VALUES ('{incident_number}','{application_name}','{description}','{time}','{category}','{solution}');\n",
    "    \"\"\"\n",
    "    cursor.execute(query)\n",
    "    conn.commit()\n",
    "    conn.close()\n",
    "    print(\"Data Inserted\")"
   ]
  },
  {
   "cell_type": "code",
   "execution_count": 39,
   "id": "348f1136",
   "metadata": {},
   "outputs": [],
   "source": [
    "def update_db():\n",
    "    conn = sqlite3.connect(db_path)\n",
    "    cursor = conn.cursor()\n",
    "    new_solution = \"New Solution\"\n",
    "    incident_number = 'INC106677'\n",
    "    query = f\"\"\"\n",
    "    UPDATE TBL_INC SET solution='{new_solution}' WHERE incident_number='{incident_number}'\n",
    "    \"\"\"\n",
    "    cursor.execute(query)\n",
    "    conn.commit()\n",
    "    conn.close()\n",
    "    print(\"Data Updated\")"
   ]
  },
  {
   "cell_type": "code",
   "execution_count": 44,
   "id": "0f63dcf6",
   "metadata": {},
   "outputs": [],
   "source": [
    "def delete_from_db():\n",
    "    conn = sqlite3.connect(db_path)\n",
    "    cursor = conn.cursor()\n",
    "    incident_number = 'INC106677'\n",
    "    query = f\"\"\"\n",
    "    DELETE FROM TBL_INC WHERE incident_number='{incident_number}'\n",
    "    \"\"\"\n",
    "    cursor.execute(query)\n",
    "    conn.commit()\n",
    "    conn.close()\n",
    "    print(\"Data Updated\")"
   ]
  },
  {
   "cell_type": "code",
   "execution_count": 45,
   "id": "c3cc4d9b",
   "metadata": {},
   "outputs": [
    {
     "name": "stdout",
     "output_type": "stream",
     "text": [
      "Data Inserted\n",
      "Data Updated\n",
      "     incident_number application_name  \\\n",
      "996        INC006674       FleetTrack   \n",
      "997        INC006675       InvoicePro   \n",
      "998        INC006676      SupportDesk   \n",
      "999        INC006677       InvoicePro   \n",
      "1000       INC106677       InvoicePro   \n",
      "\n",
      "                                            description              time  \\\n",
      "996   Wrong feature flag set for Checkout; users in ...  2025-08-07 22:05   \n",
      "997   Slow page loads in Reporting for MobileBank fr...  2025-08-06 13:48   \n",
      "998   Mobile app v3.1.0 crashes on macOS 14 when ope...  2025-08-11 07:36   \n",
      "999   Slow page loads in Reporting for MobileBank fr...  2025-07-26 16:22   \n",
      "1000  Slow page loads in Reporting for MobileBank fr...  2025-07-26 16:22   \n",
      "\n",
      "                     category  \\\n",
      "996       Configuration Issue   \n",
      "997   Performance Degradation   \n",
      "998              Mobile Crash   \n",
      "999   Performance Degradation   \n",
      "1000  Performance Degradation   \n",
      "\n",
      "                                               solution  \n",
      "996   Restored feature flag defaults per environment...  \n",
      "997   Warmed cache, scaled autoscaler to 3x, and opt...  \n",
      "998   Upgraded mobile SDK, fixed null checks, and pu...  \n",
      "999   Warmed cache, scaled autoscaler to 3x, and opt...  \n",
      "1000                                       New Solution  \n",
      "Data Updated\n",
      "    incident_number application_name  \\\n",
      "995       INC006673     InventoryNow   \n",
      "996       INC006674       FleetTrack   \n",
      "997       INC006675       InvoicePro   \n",
      "998       INC006676      SupportDesk   \n",
      "999       INC006677       InvoicePro   \n",
      "\n",
      "                                           description              time  \\\n",
      "995  Scheduled report in Dashboard stuck generating...  2025-07-02 17:07   \n",
      "996  Wrong feature flag set for Checkout; users in ...  2025-08-07 22:05   \n",
      "997  Slow page loads in Reporting for MobileBank fr...  2025-08-06 13:48   \n",
      "998  Mobile app v3.1.0 crashes on macOS 14 when ope...  2025-08-11 07:36   \n",
      "999  Slow page loads in Reporting for MobileBank fr...  2025-07-26 16:22   \n",
      "\n",
      "                    category  \\\n",
      "995    Report/Export Problem   \n",
      "996      Configuration Issue   \n",
      "997  Performance Degradation   \n",
      "998             Mobile Crash   \n",
      "999  Performance Degradation   \n",
      "\n",
      "                                              solution  \n",
      "995  Optimized report query and chunked export; CSV...  \n",
      "996  Restored feature flag defaults per environment...  \n",
      "997  Warmed cache, scaled autoscaler to 3x, and opt...  \n",
      "998  Upgraded mobile SDK, fixed null checks, and pu...  \n",
      "999  Warmed cache, scaled autoscaler to 3x, and opt...  \n"
     ]
    }
   ],
   "source": [
    "restore_db()\n",
    "insert_to_db()\n",
    "update_db()\n",
    "read_from_db()\n",
    "delete_from_db()\n",
    "read_from_db()"
   ]
  }
 ],
 "metadata": {
  "kernelspec": {
   "display_name": ".venv",
   "language": "python",
   "name": "python3"
  },
  "language_info": {
   "codemirror_mode": {
    "name": "ipython",
    "version": 3
   },
   "file_extension": ".py",
   "mimetype": "text/x-python",
   "name": "python",
   "nbconvert_exporter": "python",
   "pygments_lexer": "ipython3",
   "version": "3.13.0"
  }
 },
 "nbformat": 4,
 "nbformat_minor": 5
}
